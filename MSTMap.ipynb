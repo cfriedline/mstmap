{
 "metadata": {
  "name": ""
 },
 "nbformat": 3,
 "nbformat_minor": 0,
 "worksheets": [
  {
   "cells": [
    {
     "cell_type": "code",
     "collapsed": false,
     "input": [
      "import os\n",
      "import multiprocessing\n",
      "import re\n",
      "from decimal import Decimal\n",
      "from IPython.parallel import Client\n",
      "import socket\n",
      "import paramiko\n",
      "from collections import defaultdict"
     ],
     "language": "python",
     "metadata": {},
     "outputs": [],
     "prompt_number": ""
    },
    {
     "cell_type": "code",
     "collapsed": false,
     "input": [
      "rc = Client(profile='sge')\n",
      "dview = rc[:]\n",
      "lview = rc.load_balanced_view()\n",
      "print len(dview)"
     ],
     "language": "python",
     "metadata": {},
     "outputs": [],
     "prompt_number": ""
    },
    {
     "cell_type": "code",
     "collapsed": false,
     "input": [
      "with dview.sync_imports():\n",
      "    try:\n",
      "        import os\n",
      "        import socket\n",
      "    except:\n",
      "        pass"
     ],
     "language": "python",
     "metadata": {},
     "outputs": [],
     "prompt_number": ""
    },
    {
     "cell_type": "code",
     "collapsed": false,
     "input": [
      "@dview.remote(block=True)\n",
      "def get_hostnames():\n",
      "    return socket.gethostname()\n",
      "unique_hosts = defaultdict(list)\n",
      "for i, h in enumerate(get_hostnames()):\n",
      "    unique_hosts[h].append(i)\n",
      "uview = [v[0] for k, v in unique_hosts.items()]\n",
      "luview = rc.load_balanced_view(targets=uview)\n",
      "duview = rc[uview]\n",
      "print len(uview)\n",
      "unique_hosts"
     ],
     "language": "python",
     "metadata": {},
     "outputs": [],
     "prompt_number": ""
    },
    {
     "cell_type": "code",
     "collapsed": false,
     "input": [
      "mstmap = \"/home/cfriedline/data7/src/MSTMap/MSTMap.exe\"\n",
      "dview['mstmap'] = mstmap"
     ],
     "language": "python",
     "metadata": {},
     "outputs": [],
     "prompt_number": ""
    },
    {
     "cell_type": "code",
     "collapsed": false,
     "input": [
      "cd /data7/cfriedline/mstmap/"
     ],
     "language": "python",
     "metadata": {},
     "outputs": [],
     "prompt_number": ""
    },
    {
     "cell_type": "code",
     "collapsed": false,
     "input": [
      "infile = os.path.abspath(\"red_geno_foxtail.txt\")"
     ],
     "language": "python",
     "metadata": {},
     "outputs": [],
     "prompt_number": ""
    },
    {
     "cell_type": "code",
     "collapsed": false,
     "input": [
      "filenum = 0\n",
      "p_vals = [0.001]\n",
      "for i in xrange(10):\n",
      "    p_vals.append(p_vals[-1]/10)\n",
      "print p_vals\n",
      "mstmap_tasks = []\n",
      "for p in p_vals:\n",
      "    outfile = \"%s.in%d\" % (infile, filenum) \n",
      "    print outfile, p\n",
      "    mstmap_tasks.append(outfile)\n",
      "    with open(outfile, \"w\") as out:\n",
      "        for line in open(infile):\n",
      "            line = line.strip()\n",
      "            if 'cut_off_p_value' in line: \n",
      "                out.write(\"cut_off_p_value %g\\n\" % p)\n",
      "            else:\n",
      "                out.write(\"%s\\n\" % line)\n",
      "    filenum+=1 "
     ],
     "language": "python",
     "metadata": {},
     "outputs": [],
     "prompt_number": ""
    },
    {
     "cell_type": "code",
     "collapsed": false,
     "input": [
      "def run_mstmap(infile):\n",
      "    outfile = \"%s.out\" % infile\n",
      "    print socket.gethostname(), outfile\n",
      "    cmd = \"%s %s %s\" % (mstmap, infile, outfile)\n",
      "    !$cmd\n",
      "    return outfile\n",
      "dview['run_mstmap'] = run_mstmap"
     ],
     "language": "python",
     "metadata": {},
     "outputs": [],
     "prompt_number": ""
    },
    {
     "cell_type": "code",
     "collapsed": false,
     "input": [
      "godel97 = rc.load_balanced_view(targets=unique_hosts['godel97'])"
     ],
     "language": "python",
     "metadata": {},
     "outputs": [],
     "prompt_number": ""
    },
    {
     "cell_type": "code",
     "collapsed": false,
     "input": [
      "results = godel97.map_async(run_mstmap, mstmap_tasks)"
     ],
     "language": "python",
     "metadata": {},
     "outputs": [],
     "prompt_number": ""
    },
    {
     "cell_type": "code",
     "collapsed": false,
     "input": [
      "print results.progress\n",
      "for m in results.metadata:\n",
      "    print m.status, m.completed, m.stdout"
     ],
     "language": "python",
     "metadata": {},
     "outputs": [],
     "prompt_number": ""
    },
    {
     "cell_type": "code",
     "collapsed": false,
     "input": [
      "ssh = paramiko.SSHClient()\n",
      "ssh.load_system_host_keys()\n",
      "qhost = !qhost\n",
      "for host in [y[0] for y in [x.split() for x in qhost[3:]]]:\n",
      "    try:\n",
      "        ssh.connect(host, timeout=3)\n",
      "        print host\n",
      "        stdin, stdout, stderr = ssh.exec_command('ps aux | grep MSTMap')\n",
      "        for line in stdout:\n",
      "            if not 'grep' in line:\n",
      "                print '...' + line.strip()\n",
      "                ssh.exec_command('killall MSTMap.exe')\n",
      "    except:\n",
      "        pass"
     ],
     "language": "python",
     "metadata": {},
     "outputs": [],
     "prompt_number": ""
    },
    {
     "cell_type": "code",
     "collapsed": false,
     "input": [],
     "language": "python",
     "metadata": {},
     "outputs": []
    }
   ],
   "metadata": {}
  }
 ]
}